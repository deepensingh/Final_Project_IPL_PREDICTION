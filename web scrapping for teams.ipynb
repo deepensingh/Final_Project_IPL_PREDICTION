{
 "cells": [
  {
   "cell_type": "code",
   "execution_count": 1,
   "id": "993257f8",
   "metadata": {},
   "outputs": [],
   "source": [
    "from bs4 import BeautifulSoup\n",
    "import requests\n",
    "import pandas as pd\n",
    "from time import sleep\n",
    "from random import randint\n"
   ]
  },
  {
   "cell_type": "code",
   "execution_count": 2,
   "id": "ba320240",
   "metadata": {},
   "outputs": [],
   "source": [
    "standing_url = \"https://www.espncricinfo.com/series/indian-premier-league-2023-1345038/points-table-standings\""
   ]
  },
  {
   "cell_type": "code",
   "execution_count": 3,
   "id": "0e9c0df6",
   "metadata": {},
   "outputs": [],
   "source": [
    "data = requests.get(standing_url)"
   ]
  },
  {
   "cell_type": "code",
   "execution_count": 4,
   "id": "18b91424",
   "metadata": {},
   "outputs": [],
   "source": [
    "soup = BeautifulSoup(data.text)"
   ]
  },
  {
   "cell_type": "code",
   "execution_count": 5,
   "id": "6713e0d7",
   "metadata": {},
   "outputs": [],
   "source": [
    "standing_table = soup.select('table.ds-w-full')[0]"
   ]
  },
  {
   "cell_type": "code",
   "execution_count": 6,
   "id": "b931b3eb",
   "metadata": {
    "scrolled": false
   },
   "outputs": [
    {
     "data": {
      "text/plain": [
       "<table class=\"ds-w-full ds-table ds-table-md ds-table-auto ds-w-full\"><thead class=\"ds-bg-fill-content-alternate ds-text-left ds-text-right\"><tr class=\"\"><th class=\"ds-min-w-max ds-text-left !ds-pr-8 ds-w-[99%]\">TEAMS</th><th class=\"ds-w-0 ds-whitespace-nowrap ds-min-w-max\"><div class=\"ds-flex ds-items-center ds-justify-center ds-cursor-pointer\" title=\"The number of matches played\"><span class=\"ds-underline ds-underline-offset-2 table-head-title-not-clicked\">M</span><i class=\"icon-keyboard_arrow_up-filled ds-text-icon ds-flex ds-w-0 ds-opacity-0\" style=\"font-size:16px\"></i></div></th><th class=\"ds-w-0 ds-whitespace-nowrap ds-min-w-max\"><div class=\"ds-flex ds-items-center ds-justify-center ds-cursor-pointer\" title=\"The number of matches won\"><span class=\"ds-underline ds-underline-offset-2 table-head-title-not-clicked\">W</span><i class=\"icon-keyboard_arrow_up-filled ds-text-icon ds-flex ds-w-0 ds-opacity-0\" style=\"font-size:16px\"></i></div></th><th class=\"ds-w-0 ds-whitespace-nowrap ds-min-w-max\"><div class=\"ds-flex ds-items-center ds-justify-center ds-cursor-pointer\" title=\"The number of matches lost\"><span class=\"ds-underline ds-underline-offset-2 table-head-title-not-clicked\">L</span><i class=\"icon-keyboard_arrow_up-filled ds-text-icon ds-flex ds-w-0 ds-opacity-0\" style=\"font-size:16px\"></i></div></th><th class=\"ds-w-0 ds-whitespace-nowrap ds-min-w-max\"><div class=\"ds-flex ds-items-center ds-justify-center ds-cursor-pointer\" title=\"The number of matches tied\"><span class=\"ds-underline ds-underline-offset-2 table-head-title-not-clicked\">T</span><i class=\"icon-keyboard_arrow_up-filled ds-text-icon ds-flex ds-w-0 ds-opacity-0\" style=\"font-size:16px\"></i></div></th><th class=\"ds-w-0 ds-whitespace-nowrap ds-min-w-max\"><div class=\"ds-flex ds-items-center ds-justify-center ds-cursor-pointer\" title=\"The number of matches abandoned\"><span class=\"ds-underline ds-underline-offset-2 table-head-title-not-clicked\">N/R</span><i class=\"icon-keyboard_arrow_up-filled ds-text-icon ds-flex ds-w-0 ds-opacity-0\" style=\"font-size:16px\"></i></div></th><th class=\"ds-w-0 ds-whitespace-nowrap ds-min-w-max\"><div class=\"ds-flex ds-items-center ds-justify-center ds-cursor-pointer\" title=\"Number of points awarded\"><span class=\"ds-underline ds-underline-offset-2 table-head-title-not-clicked ds-border-r ds-border-line\">PT</span><i class=\"icon-keyboard_arrow_up-filled ds-text-icon ds-flex ds-w-0 ds-opacity-0\" style=\"font-size:16px\"></i></div></th><th class=\"ds-w-0 ds-whitespace-nowrap ds-min-w-max\"><div class=\"ds-flex ds-items-center ds-justify-center ds-cursor-pointer\" title=\"Net run rate\"><span class=\"ds-underline ds-underline-offset-2 table-head-title-not-clicked\">NRR</span><i class=\"icon-keyboard_arrow_up-filled ds-text-icon ds-flex ds-w-0 ds-opacity-0\" style=\"font-size:16px\"></i></div></th><th class=\"ds-min-w-max ds-w-[144px]\">Series Form</th><th class=\"ds-w-0 ds-whitespace-nowrap ds-min-w-max\">Next</th><th class=\"ds-w-0 ds-whitespace-nowrap ds-min-w-max\"><span>For</span></th><th class=\"ds-w-0 ds-whitespace-nowrap ds-min-w-max\"><span>Against</span></th></tr></thead><tbody class=\"ds-text-center\"><tr class=\"ds-text-tight-s\"><td class=\"ds-min-w-max\"><a class=\"ds-flex ds-items-center\" href=\"/team/chennai-super-kings-335974\"><div class=\"ds-flex ds-items-center ds-space-x-2\"><img alt=\"Chennai Super Kings\" height=\"24\" src=\"https://wassets.hscicdn.com/static/images/lazyimage-noaspect.svg\" style=\"width:24px;height:24px\" width=\"24\"/><span class=\"ds-text-tight-s ds-font-bold ds-uppercase ds-text-left\">Chennai Super Kings</span></div></a></td><td class=\"ds-w-0 ds-whitespace-nowrap ds-min-w-max\">-</td><td class=\"ds-w-0 ds-whitespace-nowrap ds-min-w-max\">-</td><td class=\"ds-w-0 ds-whitespace-nowrap ds-min-w-max\">-</td><td class=\"ds-w-0 ds-whitespace-nowrap ds-min-w-max\">-</td><td class=\"ds-w-0 ds-whitespace-nowrap ds-min-w-max\">-</td><td class=\"ds-w-0 ds-whitespace-nowrap ds-min-w-max ds-font-bold\">-</td><td class=\"ds-w-0 ds-whitespace-nowrap ds-min-w-max\">-</td><td class=\"ds-min-w-max ds-cursor-pointer\"><div class=\"ds-flex\"><div class=\"ds-flex ds-flex-row ds-justify-center ds-items-start ds-space-x-1 ds-cursor-pointer\"><div class=\"ds-w-4 ds-h-4 ds-rounded ds-flex ds-items-center ds-justify-center\"><i class=\"icon-horizontal_rule-filled ds-text-icon-mid\" style=\"font-size:12px\"></i></div><div class=\"ds-w-4 ds-h-4 ds-rounded ds-flex ds-items-center ds-justify-center\"><i class=\"icon-horizontal_rule-filled ds-text-icon-mid\" style=\"font-size:12px\"></i></div><div class=\"ds-w-4 ds-h-4 ds-rounded ds-flex ds-items-center ds-justify-center\"><i class=\"icon-horizontal_rule-filled ds-text-icon-mid\" style=\"font-size:12px\"></i></div><div class=\"ds-w-4 ds-h-4 ds-rounded ds-flex ds-items-center ds-justify-center\"><i class=\"icon-horizontal_rule-filled ds-text-icon-mid\" style=\"font-size:12px\"></i></div><div class=\"ds-w-4 ds-h-4 ds-rounded ds-flex ds-items-center ds-justify-center\"><i class=\"icon-horizontal_rule-filled ds-text-icon-mid\" style=\"font-size:12px\"></i></div></div><i class=\"icon-keyboard_arrow_down-filled ds-text-icon\" style=\"font-size:20px\"></i></div></td><td class=\"ds-w-0 ds-whitespace-nowrap ds-min-w-max ds-text-right\"><a class=\"ds-inline-flex ds-items-start ds-leading-none\" href=\"/series/indian-premier-league-2023-1345038/gujarat-titans-vs-chennai-super-kings-1st-match-1359475/live-cricket-score\"><span class=\"ds-text-compact-xs ds-text-typo ds-underline ds-decoration-ui-stroke hover:ds-text-typo-primary hover:ds-decoration-ui-stroke-primary ds-block\">vs GT</span></a></td><td class=\"ds-w-0 ds-whitespace-nowrap ds-min-w-max\">-</td><td class=\"ds-w-0 ds-whitespace-nowrap ds-min-w-max\">-</td></tr><tr class=\"ds-border-none\"><td class=\"ds-min-w-max !ds-p-0 ds-text-left\" colspan=\"20\"><div aria-hidden=\"true\" class=\"ReactCollapse--collapse\" style=\"height:0px;overflow:hidden\"><div class=\"ReactCollapse--content\"><div class=\"ds-px-4 ds-py-2\"><span class=\"ds-text-comfortable-s\"> No match details found </span></div></div></div></td></tr><tr class=\"ds-text-tight-s\"><td class=\"ds-min-w-max\"><a class=\"ds-flex ds-items-center\" href=\"/team/delhi-capitals-335975\"><div class=\"ds-flex ds-items-center ds-space-x-2\"><img alt=\"Delhi Capitals\" height=\"24\" src=\"https://wassets.hscicdn.com/static/images/lazyimage-noaspect.svg\" style=\"width:24px;height:24px\" width=\"24\"/><span class=\"ds-text-tight-s ds-font-bold ds-uppercase ds-text-left\">Delhi Capitals</span></div></a></td><td class=\"ds-w-0 ds-whitespace-nowrap ds-min-w-max\">-</td><td class=\"ds-w-0 ds-whitespace-nowrap ds-min-w-max\">-</td><td class=\"ds-w-0 ds-whitespace-nowrap ds-min-w-max\">-</td><td class=\"ds-w-0 ds-whitespace-nowrap ds-min-w-max\">-</td><td class=\"ds-w-0 ds-whitespace-nowrap ds-min-w-max\">-</td><td class=\"ds-w-0 ds-whitespace-nowrap ds-min-w-max ds-font-bold\">-</td><td class=\"ds-w-0 ds-whitespace-nowrap ds-min-w-max\">-</td><td class=\"ds-min-w-max ds-cursor-pointer\"><div class=\"ds-flex\"><div class=\"ds-flex ds-flex-row ds-justify-center ds-items-start ds-space-x-1 ds-cursor-pointer\"><div class=\"ds-w-4 ds-h-4 ds-rounded ds-flex ds-items-center ds-justify-center\"><i class=\"icon-horizontal_rule-filled ds-text-icon-mid\" style=\"font-size:12px\"></i></div><div class=\"ds-w-4 ds-h-4 ds-rounded ds-flex ds-items-center ds-justify-center\"><i class=\"icon-horizontal_rule-filled ds-text-icon-mid\" style=\"font-size:12px\"></i></div><div class=\"ds-w-4 ds-h-4 ds-rounded ds-flex ds-items-center ds-justify-center\"><i class=\"icon-horizontal_rule-filled ds-text-icon-mid\" style=\"font-size:12px\"></i></div><div class=\"ds-w-4 ds-h-4 ds-rounded ds-flex ds-items-center ds-justify-center\"><i class=\"icon-horizontal_rule-filled ds-text-icon-mid\" style=\"font-size:12px\"></i></div><div class=\"ds-w-4 ds-h-4 ds-rounded ds-flex ds-items-center ds-justify-center\"><i class=\"icon-horizontal_rule-filled ds-text-icon-mid\" style=\"font-size:12px\"></i></div></div><i class=\"icon-keyboard_arrow_down-filled ds-text-icon\" style=\"font-size:20px\"></i></div></td><td class=\"ds-w-0 ds-whitespace-nowrap ds-min-w-max ds-text-right\"><a class=\"ds-inline-flex ds-items-start ds-leading-none\" href=\"/series/indian-premier-league-2023-1345038/lucknow-super-giants-vs-delhi-capitals-3rd-match-1359477/live-cricket-score\"><span class=\"ds-text-compact-xs ds-text-typo ds-underline ds-decoration-ui-stroke hover:ds-text-typo-primary hover:ds-decoration-ui-stroke-primary ds-block\">vs LSG</span></a></td><td class=\"ds-w-0 ds-whitespace-nowrap ds-min-w-max\">-</td><td class=\"ds-w-0 ds-whitespace-nowrap ds-min-w-max\">-</td></tr><tr class=\"ds-border-none\"><td class=\"ds-min-w-max !ds-p-0 ds-text-left\" colspan=\"20\"><div aria-hidden=\"true\" class=\"ReactCollapse--collapse\" style=\"height:0px;overflow:hidden\"><div class=\"ReactCollapse--content\"><div class=\"ds-px-4 ds-py-2\"><span class=\"ds-text-comfortable-s\"> No match details found </span></div></div></div></td></tr><tr class=\"ds-text-tight-s\"><td class=\"ds-min-w-max\"><a class=\"ds-flex ds-items-center\" href=\"/team/gujarat-titans-1298769\"><div class=\"ds-flex ds-items-center ds-space-x-2\"><img alt=\"Gujarat Titans\" height=\"24\" src=\"https://wassets.hscicdn.com/static/images/lazyimage-noaspect.svg\" style=\"width:24px;height:24px\" width=\"24\"/><span class=\"ds-text-tight-s ds-font-bold ds-uppercase ds-text-left\">Gujarat Titans</span></div></a></td><td class=\"ds-w-0 ds-whitespace-nowrap ds-min-w-max\">-</td><td class=\"ds-w-0 ds-whitespace-nowrap ds-min-w-max\">-</td><td class=\"ds-w-0 ds-whitespace-nowrap ds-min-w-max\">-</td><td class=\"ds-w-0 ds-whitespace-nowrap ds-min-w-max\">-</td><td class=\"ds-w-0 ds-whitespace-nowrap ds-min-w-max\">-</td><td class=\"ds-w-0 ds-whitespace-nowrap ds-min-w-max ds-font-bold\">-</td><td class=\"ds-w-0 ds-whitespace-nowrap ds-min-w-max\">-</td><td class=\"ds-min-w-max ds-cursor-pointer\"><div class=\"ds-flex\"><div class=\"ds-flex ds-flex-row ds-justify-center ds-items-start ds-space-x-1 ds-cursor-pointer\"><div class=\"ds-w-4 ds-h-4 ds-rounded ds-flex ds-items-center ds-justify-center\"><i class=\"icon-horizontal_rule-filled ds-text-icon-mid\" style=\"font-size:12px\"></i></div><div class=\"ds-w-4 ds-h-4 ds-rounded ds-flex ds-items-center ds-justify-center\"><i class=\"icon-horizontal_rule-filled ds-text-icon-mid\" style=\"font-size:12px\"></i></div><div class=\"ds-w-4 ds-h-4 ds-rounded ds-flex ds-items-center ds-justify-center\"><i class=\"icon-horizontal_rule-filled ds-text-icon-mid\" style=\"font-size:12px\"></i></div><div class=\"ds-w-4 ds-h-4 ds-rounded ds-flex ds-items-center ds-justify-center\"><i class=\"icon-horizontal_rule-filled ds-text-icon-mid\" style=\"font-size:12px\"></i></div><div class=\"ds-w-4 ds-h-4 ds-rounded ds-flex ds-items-center ds-justify-center\"><i class=\"icon-horizontal_rule-filled ds-text-icon-mid\" style=\"font-size:12px\"></i></div></div><i class=\"icon-keyboard_arrow_down-filled ds-text-icon\" style=\"font-size:20px\"></i></div></td><td class=\"ds-w-0 ds-whitespace-nowrap ds-min-w-max ds-text-right\"><a class=\"ds-inline-flex ds-items-start ds-leading-none\" href=\"/series/indian-premier-league-2023-1345038/gujarat-titans-vs-chennai-super-kings-1st-match-1359475/live-cricket-score\"><span class=\"ds-text-compact-xs ds-text-typo ds-underline ds-decoration-ui-stroke hover:ds-text-typo-primary hover:ds-decoration-ui-stroke-primary ds-block\">vs CSK</span></a></td><td class=\"ds-w-0 ds-whitespace-nowrap ds-min-w-max\">-</td><td class=\"ds-w-0 ds-whitespace-nowrap ds-min-w-max\">-</td></tr><tr class=\"ds-border-none\"><td class=\"ds-min-w-max !ds-p-0 ds-text-left\" colspan=\"20\"><div aria-hidden=\"true\" class=\"ReactCollapse--collapse\" style=\"height:0px;overflow:hidden\"><div class=\"ReactCollapse--content\"><div class=\"ds-px-4 ds-py-2\"><span class=\"ds-text-comfortable-s\"> No match details found </span></div></div></div></td></tr><tr class=\"ds-text-tight-s\"><td class=\"ds-min-w-max\"><a class=\"ds-flex ds-items-center\" href=\"/team/kolkata-knight-riders-335971\"><div class=\"ds-flex ds-items-center ds-space-x-2\"><img alt=\"Kolkata Knight Riders\" height=\"24\" src=\"https://wassets.hscicdn.com/static/images/lazyimage-noaspect.svg\" style=\"width:24px;height:24px\" width=\"24\"/><span class=\"ds-text-tight-s ds-font-bold ds-uppercase ds-text-left\">Kolkata Knight Riders</span></div></a></td><td class=\"ds-w-0 ds-whitespace-nowrap ds-min-w-max\">-</td><td class=\"ds-w-0 ds-whitespace-nowrap ds-min-w-max\">-</td><td class=\"ds-w-0 ds-whitespace-nowrap ds-min-w-max\">-</td><td class=\"ds-w-0 ds-whitespace-nowrap ds-min-w-max\">-</td><td class=\"ds-w-0 ds-whitespace-nowrap ds-min-w-max\">-</td><td class=\"ds-w-0 ds-whitespace-nowrap ds-min-w-max ds-font-bold\">-</td><td class=\"ds-w-0 ds-whitespace-nowrap ds-min-w-max\">-</td><td class=\"ds-min-w-max ds-cursor-pointer\"><div class=\"ds-flex\"><div class=\"ds-flex ds-flex-row ds-justify-center ds-items-start ds-space-x-1 ds-cursor-pointer\"><div class=\"ds-w-4 ds-h-4 ds-rounded ds-flex ds-items-center ds-justify-center\"><i class=\"icon-horizontal_rule-filled ds-text-icon-mid\" style=\"font-size:12px\"></i></div><div class=\"ds-w-4 ds-h-4 ds-rounded ds-flex ds-items-center ds-justify-center\"><i class=\"icon-horizontal_rule-filled ds-text-icon-mid\" style=\"font-size:12px\"></i></div><div class=\"ds-w-4 ds-h-4 ds-rounded ds-flex ds-items-center ds-justify-center\"><i class=\"icon-horizontal_rule-filled ds-text-icon-mid\" style=\"font-size:12px\"></i></div><div class=\"ds-w-4 ds-h-4 ds-rounded ds-flex ds-items-center ds-justify-center\"><i class=\"icon-horizontal_rule-filled ds-text-icon-mid\" style=\"font-size:12px\"></i></div><div class=\"ds-w-4 ds-h-4 ds-rounded ds-flex ds-items-center ds-justify-center\"><i class=\"icon-horizontal_rule-filled ds-text-icon-mid\" style=\"font-size:12px\"></i></div></div><i class=\"icon-keyboard_arrow_down-filled ds-text-icon\" style=\"font-size:20px\"></i></div></td><td class=\"ds-w-0 ds-whitespace-nowrap ds-min-w-max ds-text-right\"><a class=\"ds-inline-flex ds-items-start ds-leading-none\" href=\"/series/indian-premier-league-2023-1345038/punjab-kings-vs-kolkata-knight-riders-2nd-match-1359476/live-cricket-score\"><span class=\"ds-text-compact-xs ds-text-typo ds-underline ds-decoration-ui-stroke hover:ds-text-typo-primary hover:ds-decoration-ui-stroke-primary ds-block\">vs PBKS</span></a></td><td class=\"ds-w-0 ds-whitespace-nowrap ds-min-w-max\">-</td><td class=\"ds-w-0 ds-whitespace-nowrap ds-min-w-max\">-</td></tr><tr class=\"ds-border-none\"><td class=\"ds-min-w-max !ds-p-0 ds-text-left\" colspan=\"20\"><div aria-hidden=\"true\" class=\"ReactCollapse--collapse\" style=\"height:0px;overflow:hidden\"><div class=\"ReactCollapse--content\"><div class=\"ds-px-4 ds-py-2\"><span class=\"ds-text-comfortable-s\"> No match details found </span></div></div></div></td></tr><tr class=\"ds-text-tight-s\"><td class=\"ds-min-w-max\"><a class=\"ds-flex ds-items-center\" href=\"/team/lucknow-super-giants-1298768\"><div class=\"ds-flex ds-items-center ds-space-x-2\"><img alt=\"Lucknow Super Giants\" height=\"24\" src=\"https://wassets.hscicdn.com/static/images/lazyimage-noaspect.svg\" style=\"width:24px;height:24px\" width=\"24\"/><span class=\"ds-text-tight-s ds-font-bold ds-uppercase ds-text-left\">Lucknow Super Giants</span></div></a></td><td class=\"ds-w-0 ds-whitespace-nowrap ds-min-w-max\">-</td><td class=\"ds-w-0 ds-whitespace-nowrap ds-min-w-max\">-</td><td class=\"ds-w-0 ds-whitespace-nowrap ds-min-w-max\">-</td><td class=\"ds-w-0 ds-whitespace-nowrap ds-min-w-max\">-</td><td class=\"ds-w-0 ds-whitespace-nowrap ds-min-w-max\">-</td><td class=\"ds-w-0 ds-whitespace-nowrap ds-min-w-max ds-font-bold\">-</td><td class=\"ds-w-0 ds-whitespace-nowrap ds-min-w-max\">-</td><td class=\"ds-min-w-max ds-cursor-pointer\"><div class=\"ds-flex\"><div class=\"ds-flex ds-flex-row ds-justify-center ds-items-start ds-space-x-1 ds-cursor-pointer\"><div class=\"ds-w-4 ds-h-4 ds-rounded ds-flex ds-items-center ds-justify-center\"><i class=\"icon-horizontal_rule-filled ds-text-icon-mid\" style=\"font-size:12px\"></i></div><div class=\"ds-w-4 ds-h-4 ds-rounded ds-flex ds-items-center ds-justify-center\"><i class=\"icon-horizontal_rule-filled ds-text-icon-mid\" style=\"font-size:12px\"></i></div><div class=\"ds-w-4 ds-h-4 ds-rounded ds-flex ds-items-center ds-justify-center\"><i class=\"icon-horizontal_rule-filled ds-text-icon-mid\" style=\"font-size:12px\"></i></div><div class=\"ds-w-4 ds-h-4 ds-rounded ds-flex ds-items-center ds-justify-center\"><i class=\"icon-horizontal_rule-filled ds-text-icon-mid\" style=\"font-size:12px\"></i></div><div class=\"ds-w-4 ds-h-4 ds-rounded ds-flex ds-items-center ds-justify-center\"><i class=\"icon-horizontal_rule-filled ds-text-icon-mid\" style=\"font-size:12px\"></i></div></div><i class=\"icon-keyboard_arrow_down-filled ds-text-icon\" style=\"font-size:20px\"></i></div></td><td class=\"ds-w-0 ds-whitespace-nowrap ds-min-w-max ds-text-right\"><a class=\"ds-inline-flex ds-items-start ds-leading-none\" href=\"/series/indian-premier-league-2023-1345038/lucknow-super-giants-vs-delhi-capitals-3rd-match-1359477/live-cricket-score\"><span class=\"ds-text-compact-xs ds-text-typo ds-underline ds-decoration-ui-stroke hover:ds-text-typo-primary hover:ds-decoration-ui-stroke-primary ds-block\">vs DC</span></a></td><td class=\"ds-w-0 ds-whitespace-nowrap ds-min-w-max\">-</td><td class=\"ds-w-0 ds-whitespace-nowrap ds-min-w-max\">-</td></tr><tr class=\"ds-border-none\"><td class=\"ds-min-w-max !ds-p-0 ds-text-left\" colspan=\"20\"><div aria-hidden=\"true\" class=\"ReactCollapse--collapse\" style=\"height:0px;overflow:hidden\"><div class=\"ReactCollapse--content\"><div class=\"ds-px-4 ds-py-2\"><span class=\"ds-text-comfortable-s\"> No match details found </span></div></div></div></td></tr><tr class=\"ds-text-tight-s\"><td class=\"ds-min-w-max\"><a class=\"ds-flex ds-items-center\" href=\"/team/mumbai-indians-335978\"><div class=\"ds-flex ds-items-center ds-space-x-2\"><img alt=\"Mumbai Indians\" height=\"24\" src=\"https://wassets.hscicdn.com/static/images/lazyimage-noaspect.svg\" style=\"width:24px;height:24px\" width=\"24\"/><span class=\"ds-text-tight-s ds-font-bold ds-uppercase ds-text-left\">Mumbai Indians</span></div></a></td><td class=\"ds-w-0 ds-whitespace-nowrap ds-min-w-max\">-</td><td class=\"ds-w-0 ds-whitespace-nowrap ds-min-w-max\">-</td><td class=\"ds-w-0 ds-whitespace-nowrap ds-min-w-max\">-</td><td class=\"ds-w-0 ds-whitespace-nowrap ds-min-w-max\">-</td><td class=\"ds-w-0 ds-whitespace-nowrap ds-min-w-max\">-</td><td class=\"ds-w-0 ds-whitespace-nowrap ds-min-w-max ds-font-bold\">-</td><td class=\"ds-w-0 ds-whitespace-nowrap ds-min-w-max\">-</td><td class=\"ds-min-w-max ds-cursor-pointer\"><div class=\"ds-flex\"><div class=\"ds-flex ds-flex-row ds-justify-center ds-items-start ds-space-x-1 ds-cursor-pointer\"><div class=\"ds-w-4 ds-h-4 ds-rounded ds-flex ds-items-center ds-justify-center\"><i class=\"icon-horizontal_rule-filled ds-text-icon-mid\" style=\"font-size:12px\"></i></div><div class=\"ds-w-4 ds-h-4 ds-rounded ds-flex ds-items-center ds-justify-center\"><i class=\"icon-horizontal_rule-filled ds-text-icon-mid\" style=\"font-size:12px\"></i></div><div class=\"ds-w-4 ds-h-4 ds-rounded ds-flex ds-items-center ds-justify-center\"><i class=\"icon-horizontal_rule-filled ds-text-icon-mid\" style=\"font-size:12px\"></i></div><div class=\"ds-w-4 ds-h-4 ds-rounded ds-flex ds-items-center ds-justify-center\"><i class=\"icon-horizontal_rule-filled ds-text-icon-mid\" style=\"font-size:12px\"></i></div><div class=\"ds-w-4 ds-h-4 ds-rounded ds-flex ds-items-center ds-justify-center\"><i class=\"icon-horizontal_rule-filled ds-text-icon-mid\" style=\"font-size:12px\"></i></div></div><i class=\"icon-keyboard_arrow_down-filled ds-text-icon\" style=\"font-size:20px\"></i></div></td><td class=\"ds-w-0 ds-whitespace-nowrap ds-min-w-max ds-text-right\"><a class=\"ds-inline-flex ds-items-start ds-leading-none\" href=\"/series/indian-premier-league-2023-1345038/royal-challengers-bangalore-vs-mumbai-indians-5th-match-1359479/live-cricket-score\"><span class=\"ds-text-compact-xs ds-text-typo ds-underline ds-decoration-ui-stroke hover:ds-text-typo-primary hover:ds-decoration-ui-stroke-primary ds-block\">vs RCB</span></a></td><td class=\"ds-w-0 ds-whitespace-nowrap ds-min-w-max\">-</td><td class=\"ds-w-0 ds-whitespace-nowrap ds-min-w-max\">-</td></tr><tr class=\"ds-border-none\"><td class=\"ds-min-w-max !ds-p-0 ds-text-left\" colspan=\"20\"><div aria-hidden=\"true\" class=\"ReactCollapse--collapse\" style=\"height:0px;overflow:hidden\"><div class=\"ReactCollapse--content\"><div class=\"ds-px-4 ds-py-2\"><span class=\"ds-text-comfortable-s\"> No match details found </span></div></div></div></td></tr><tr class=\"ds-text-tight-s\"><td class=\"ds-min-w-max\"><a class=\"ds-flex ds-items-center\" href=\"/team/punjab-kings-335973\"><div class=\"ds-flex ds-items-center ds-space-x-2\"><img alt=\"Punjab Kings\" height=\"24\" src=\"https://wassets.hscicdn.com/static/images/lazyimage-noaspect.svg\" style=\"width:24px;height:24px\" width=\"24\"/><span class=\"ds-text-tight-s ds-font-bold ds-uppercase ds-text-left\">Punjab Kings</span></div></a></td><td class=\"ds-w-0 ds-whitespace-nowrap ds-min-w-max\">-</td><td class=\"ds-w-0 ds-whitespace-nowrap ds-min-w-max\">-</td><td class=\"ds-w-0 ds-whitespace-nowrap ds-min-w-max\">-</td><td class=\"ds-w-0 ds-whitespace-nowrap ds-min-w-max\">-</td><td class=\"ds-w-0 ds-whitespace-nowrap ds-min-w-max\">-</td><td class=\"ds-w-0 ds-whitespace-nowrap ds-min-w-max ds-font-bold\">-</td><td class=\"ds-w-0 ds-whitespace-nowrap ds-min-w-max\">-</td><td class=\"ds-min-w-max ds-cursor-pointer\"><div class=\"ds-flex\"><div class=\"ds-flex ds-flex-row ds-justify-center ds-items-start ds-space-x-1 ds-cursor-pointer\"><div class=\"ds-w-4 ds-h-4 ds-rounded ds-flex ds-items-center ds-justify-center\"><i class=\"icon-horizontal_rule-filled ds-text-icon-mid\" style=\"font-size:12px\"></i></div><div class=\"ds-w-4 ds-h-4 ds-rounded ds-flex ds-items-center ds-justify-center\"><i class=\"icon-horizontal_rule-filled ds-text-icon-mid\" style=\"font-size:12px\"></i></div><div class=\"ds-w-4 ds-h-4 ds-rounded ds-flex ds-items-center ds-justify-center\"><i class=\"icon-horizontal_rule-filled ds-text-icon-mid\" style=\"font-size:12px\"></i></div><div class=\"ds-w-4 ds-h-4 ds-rounded ds-flex ds-items-center ds-justify-center\"><i class=\"icon-horizontal_rule-filled ds-text-icon-mid\" style=\"font-size:12px\"></i></div><div class=\"ds-w-4 ds-h-4 ds-rounded ds-flex ds-items-center ds-justify-center\"><i class=\"icon-horizontal_rule-filled ds-text-icon-mid\" style=\"font-size:12px\"></i></div></div><i class=\"icon-keyboard_arrow_down-filled ds-text-icon\" style=\"font-size:20px\"></i></div></td><td class=\"ds-w-0 ds-whitespace-nowrap ds-min-w-max ds-text-right\"><a class=\"ds-inline-flex ds-items-start ds-leading-none\" href=\"/series/indian-premier-league-2023-1345038/punjab-kings-vs-kolkata-knight-riders-2nd-match-1359476/live-cricket-score\"><span class=\"ds-text-compact-xs ds-text-typo ds-underline ds-decoration-ui-stroke hover:ds-text-typo-primary hover:ds-decoration-ui-stroke-primary ds-block\">vs KKR</span></a></td><td class=\"ds-w-0 ds-whitespace-nowrap ds-min-w-max\">-</td><td class=\"ds-w-0 ds-whitespace-nowrap ds-min-w-max\">-</td></tr><tr class=\"ds-border-none\"><td class=\"ds-min-w-max !ds-p-0 ds-text-left\" colspan=\"20\"><div aria-hidden=\"true\" class=\"ReactCollapse--collapse\" style=\"height:0px;overflow:hidden\"><div class=\"ReactCollapse--content\"><div class=\"ds-px-4 ds-py-2\"><span class=\"ds-text-comfortable-s\"> No match details found </span></div></div></div></td></tr><tr class=\"ds-text-tight-s\"><td class=\"ds-min-w-max\"><a class=\"ds-flex ds-items-center\" href=\"/team/rajasthan-royals-335977\"><div class=\"ds-flex ds-items-center ds-space-x-2\"><img alt=\"Rajasthan Royals\" height=\"24\" src=\"https://wassets.hscicdn.com/static/images/lazyimage-noaspect.svg\" style=\"width:24px;height:24px\" width=\"24\"/><span class=\"ds-text-tight-s ds-font-bold ds-uppercase ds-text-left\">Rajasthan Royals</span></div></a></td><td class=\"ds-w-0 ds-whitespace-nowrap ds-min-w-max\">-</td><td class=\"ds-w-0 ds-whitespace-nowrap ds-min-w-max\">-</td><td class=\"ds-w-0 ds-whitespace-nowrap ds-min-w-max\">-</td><td class=\"ds-w-0 ds-whitespace-nowrap ds-min-w-max\">-</td><td class=\"ds-w-0 ds-whitespace-nowrap ds-min-w-max\">-</td><td class=\"ds-w-0 ds-whitespace-nowrap ds-min-w-max ds-font-bold\">-</td><td class=\"ds-w-0 ds-whitespace-nowrap ds-min-w-max\">-</td><td class=\"ds-min-w-max ds-cursor-pointer\"><div class=\"ds-flex\"><div class=\"ds-flex ds-flex-row ds-justify-center ds-items-start ds-space-x-1 ds-cursor-pointer\"><div class=\"ds-w-4 ds-h-4 ds-rounded ds-flex ds-items-center ds-justify-center\"><i class=\"icon-horizontal_rule-filled ds-text-icon-mid\" style=\"font-size:12px\"></i></div><div class=\"ds-w-4 ds-h-4 ds-rounded ds-flex ds-items-center ds-justify-center\"><i class=\"icon-horizontal_rule-filled ds-text-icon-mid\" style=\"font-size:12px\"></i></div><div class=\"ds-w-4 ds-h-4 ds-rounded ds-flex ds-items-center ds-justify-center\"><i class=\"icon-horizontal_rule-filled ds-text-icon-mid\" style=\"font-size:12px\"></i></div><div class=\"ds-w-4 ds-h-4 ds-rounded ds-flex ds-items-center ds-justify-center\"><i class=\"icon-horizontal_rule-filled ds-text-icon-mid\" style=\"font-size:12px\"></i></div><div class=\"ds-w-4 ds-h-4 ds-rounded ds-flex ds-items-center ds-justify-center\"><i class=\"icon-horizontal_rule-filled ds-text-icon-mid\" style=\"font-size:12px\"></i></div></div><i class=\"icon-keyboard_arrow_down-filled ds-text-icon\" style=\"font-size:20px\"></i></div></td><td class=\"ds-w-0 ds-whitespace-nowrap ds-min-w-max ds-text-right\"><a class=\"ds-inline-flex ds-items-start ds-leading-none\" href=\"/series/indian-premier-league-2023-1345038/sunrisers-hyderabad-vs-rajasthan-royals-4th-match-1359478/live-cricket-score\"><span class=\"ds-text-compact-xs ds-text-typo ds-underline ds-decoration-ui-stroke hover:ds-text-typo-primary hover:ds-decoration-ui-stroke-primary ds-block\">vs SRH</span></a></td><td class=\"ds-w-0 ds-whitespace-nowrap ds-min-w-max\">-</td><td class=\"ds-w-0 ds-whitespace-nowrap ds-min-w-max\">-</td></tr><tr class=\"ds-border-none\"><td class=\"ds-min-w-max !ds-p-0 ds-text-left\" colspan=\"20\"><div aria-hidden=\"true\" class=\"ReactCollapse--collapse\" style=\"height:0px;overflow:hidden\"><div class=\"ReactCollapse--content\"><div class=\"ds-px-4 ds-py-2\"><span class=\"ds-text-comfortable-s\"> No match details found </span></div></div></div></td></tr><tr class=\"ds-text-tight-s\"><td class=\"ds-min-w-max\"><a class=\"ds-flex ds-items-center\" href=\"/team/royal-challengers-bangalore-335970\"><div class=\"ds-flex ds-items-center ds-space-x-2\"><img alt=\"Royal Challengers Bangalore\" height=\"24\" src=\"https://wassets.hscicdn.com/static/images/lazyimage-noaspect.svg\" style=\"width:24px;height:24px\" width=\"24\"/><span class=\"ds-text-tight-s ds-font-bold ds-uppercase ds-text-left\">Royal Challengers Bangalore</span></div></a></td><td class=\"ds-w-0 ds-whitespace-nowrap ds-min-w-max\">-</td><td class=\"ds-w-0 ds-whitespace-nowrap ds-min-w-max\">-</td><td class=\"ds-w-0 ds-whitespace-nowrap ds-min-w-max\">-</td><td class=\"ds-w-0 ds-whitespace-nowrap ds-min-w-max\">-</td><td class=\"ds-w-0 ds-whitespace-nowrap ds-min-w-max\">-</td><td class=\"ds-w-0 ds-whitespace-nowrap ds-min-w-max ds-font-bold\">-</td><td class=\"ds-w-0 ds-whitespace-nowrap ds-min-w-max\">-</td><td class=\"ds-min-w-max ds-cursor-pointer\"><div class=\"ds-flex\"><div class=\"ds-flex ds-flex-row ds-justify-center ds-items-start ds-space-x-1 ds-cursor-pointer\"><div class=\"ds-w-4 ds-h-4 ds-rounded ds-flex ds-items-center ds-justify-center\"><i class=\"icon-horizontal_rule-filled ds-text-icon-mid\" style=\"font-size:12px\"></i></div><div class=\"ds-w-4 ds-h-4 ds-rounded ds-flex ds-items-center ds-justify-center\"><i class=\"icon-horizontal_rule-filled ds-text-icon-mid\" style=\"font-size:12px\"></i></div><div class=\"ds-w-4 ds-h-4 ds-rounded ds-flex ds-items-center ds-justify-center\"><i class=\"icon-horizontal_rule-filled ds-text-icon-mid\" style=\"font-size:12px\"></i></div><div class=\"ds-w-4 ds-h-4 ds-rounded ds-flex ds-items-center ds-justify-center\"><i class=\"icon-horizontal_rule-filled ds-text-icon-mid\" style=\"font-size:12px\"></i></div><div class=\"ds-w-4 ds-h-4 ds-rounded ds-flex ds-items-center ds-justify-center\"><i class=\"icon-horizontal_rule-filled ds-text-icon-mid\" style=\"font-size:12px\"></i></div></div><i class=\"icon-keyboard_arrow_down-filled ds-text-icon\" style=\"font-size:20px\"></i></div></td><td class=\"ds-w-0 ds-whitespace-nowrap ds-min-w-max ds-text-right\"><a class=\"ds-inline-flex ds-items-start ds-leading-none\" href=\"/series/indian-premier-league-2023-1345038/royal-challengers-bangalore-vs-mumbai-indians-5th-match-1359479/live-cricket-score\"><span class=\"ds-text-compact-xs ds-text-typo ds-underline ds-decoration-ui-stroke hover:ds-text-typo-primary hover:ds-decoration-ui-stroke-primary ds-block\">vs MI</span></a></td><td class=\"ds-w-0 ds-whitespace-nowrap ds-min-w-max\">-</td><td class=\"ds-w-0 ds-whitespace-nowrap ds-min-w-max\">-</td></tr><tr class=\"ds-border-none\"><td class=\"ds-min-w-max !ds-p-0 ds-text-left\" colspan=\"20\"><div aria-hidden=\"true\" class=\"ReactCollapse--collapse\" style=\"height:0px;overflow:hidden\"><div class=\"ReactCollapse--content\"><div class=\"ds-px-4 ds-py-2\"><span class=\"ds-text-comfortable-s\"> No match details found </span></div></div></div></td></tr><tr class=\"ds-text-tight-s\"><td class=\"ds-min-w-max\"><a class=\"ds-flex ds-items-center\" href=\"/team/sunrisers-hyderabad-628333\"><div class=\"ds-flex ds-items-center ds-space-x-2\"><img alt=\"Sunrisers Hyderabad\" height=\"24\" src=\"https://wassets.hscicdn.com/static/images/lazyimage-noaspect.svg\" style=\"width:24px;height:24px\" width=\"24\"/><span class=\"ds-text-tight-s ds-font-bold ds-uppercase ds-text-left\">Sunrisers Hyderabad</span></div></a></td><td class=\"ds-w-0 ds-whitespace-nowrap ds-min-w-max\">-</td><td class=\"ds-w-0 ds-whitespace-nowrap ds-min-w-max\">-</td><td class=\"ds-w-0 ds-whitespace-nowrap ds-min-w-max\">-</td><td class=\"ds-w-0 ds-whitespace-nowrap ds-min-w-max\">-</td><td class=\"ds-w-0 ds-whitespace-nowrap ds-min-w-max\">-</td><td class=\"ds-w-0 ds-whitespace-nowrap ds-min-w-max ds-font-bold\">-</td><td class=\"ds-w-0 ds-whitespace-nowrap ds-min-w-max\">-</td><td class=\"ds-min-w-max ds-cursor-pointer\"><div class=\"ds-flex\"><div class=\"ds-flex ds-flex-row ds-justify-center ds-items-start ds-space-x-1 ds-cursor-pointer\"><div class=\"ds-w-4 ds-h-4 ds-rounded ds-flex ds-items-center ds-justify-center\"><i class=\"icon-horizontal_rule-filled ds-text-icon-mid\" style=\"font-size:12px\"></i></div><div class=\"ds-w-4 ds-h-4 ds-rounded ds-flex ds-items-center ds-justify-center\"><i class=\"icon-horizontal_rule-filled ds-text-icon-mid\" style=\"font-size:12px\"></i></div><div class=\"ds-w-4 ds-h-4 ds-rounded ds-flex ds-items-center ds-justify-center\"><i class=\"icon-horizontal_rule-filled ds-text-icon-mid\" style=\"font-size:12px\"></i></div><div class=\"ds-w-4 ds-h-4 ds-rounded ds-flex ds-items-center ds-justify-center\"><i class=\"icon-horizontal_rule-filled ds-text-icon-mid\" style=\"font-size:12px\"></i></div><div class=\"ds-w-4 ds-h-4 ds-rounded ds-flex ds-items-center ds-justify-center\"><i class=\"icon-horizontal_rule-filled ds-text-icon-mid\" style=\"font-size:12px\"></i></div></div><i class=\"icon-keyboard_arrow_down-filled ds-text-icon\" style=\"font-size:20px\"></i></div></td><td class=\"ds-w-0 ds-whitespace-nowrap ds-min-w-max ds-text-right\"><a class=\"ds-inline-flex ds-items-start ds-leading-none\" href=\"/series/indian-premier-league-2023-1345038/sunrisers-hyderabad-vs-rajasthan-royals-4th-match-1359478/live-cricket-score\"><span class=\"ds-text-compact-xs ds-text-typo ds-underline ds-decoration-ui-stroke hover:ds-text-typo-primary hover:ds-decoration-ui-stroke-primary ds-block\">vs RR</span></a></td><td class=\"ds-w-0 ds-whitespace-nowrap ds-min-w-max\">-</td><td class=\"ds-w-0 ds-whitespace-nowrap ds-min-w-max\">-</td></tr><tr class=\"ds-border-none\"><td class=\"ds-min-w-max !ds-p-0 ds-text-left\" colspan=\"20\"><div aria-hidden=\"true\" class=\"ReactCollapse--collapse\" style=\"height:0px;overflow:hidden\"><div class=\"ReactCollapse--content\"><div class=\"ds-px-4 ds-py-2\"><span class=\"ds-text-comfortable-s\"> No match details found </span></div></div></div></td></tr></tbody></table>"
      ]
     },
     "execution_count": 6,
     "metadata": {},
     "output_type": "execute_result"
    }
   ],
   "source": [
    "standing_table"
   ]
  },
  {
   "cell_type": "code",
   "execution_count": 7,
   "id": "d16f0da9",
   "metadata": {},
   "outputs": [],
   "source": [
    "links = standing_table.find_all('a')"
   ]
  },
  {
   "cell_type": "code",
   "execution_count": 8,
   "id": "05d4d9cc",
   "metadata": {
    "scrolled": false
   },
   "outputs": [
    {
     "data": {
      "text/plain": [
       "[<a class=\"ds-flex ds-items-center\" href=\"/team/chennai-super-kings-335974\"><div class=\"ds-flex ds-items-center ds-space-x-2\"><img alt=\"Chennai Super Kings\" height=\"24\" src=\"https://wassets.hscicdn.com/static/images/lazyimage-noaspect.svg\" style=\"width:24px;height:24px\" width=\"24\"/><span class=\"ds-text-tight-s ds-font-bold ds-uppercase ds-text-left\">Chennai Super Kings</span></div></a>,\n",
       " <a class=\"ds-inline-flex ds-items-start ds-leading-none\" href=\"/series/indian-premier-league-2023-1345038/gujarat-titans-vs-chennai-super-kings-1st-match-1359475/live-cricket-score\"><span class=\"ds-text-compact-xs ds-text-typo ds-underline ds-decoration-ui-stroke hover:ds-text-typo-primary hover:ds-decoration-ui-stroke-primary ds-block\">vs GT</span></a>,\n",
       " <a class=\"ds-flex ds-items-center\" href=\"/team/delhi-capitals-335975\"><div class=\"ds-flex ds-items-center ds-space-x-2\"><img alt=\"Delhi Capitals\" height=\"24\" src=\"https://wassets.hscicdn.com/static/images/lazyimage-noaspect.svg\" style=\"width:24px;height:24px\" width=\"24\"/><span class=\"ds-text-tight-s ds-font-bold ds-uppercase ds-text-left\">Delhi Capitals</span></div></a>,\n",
       " <a class=\"ds-inline-flex ds-items-start ds-leading-none\" href=\"/series/indian-premier-league-2023-1345038/lucknow-super-giants-vs-delhi-capitals-3rd-match-1359477/live-cricket-score\"><span class=\"ds-text-compact-xs ds-text-typo ds-underline ds-decoration-ui-stroke hover:ds-text-typo-primary hover:ds-decoration-ui-stroke-primary ds-block\">vs LSG</span></a>,\n",
       " <a class=\"ds-flex ds-items-center\" href=\"/team/gujarat-titans-1298769\"><div class=\"ds-flex ds-items-center ds-space-x-2\"><img alt=\"Gujarat Titans\" height=\"24\" src=\"https://wassets.hscicdn.com/static/images/lazyimage-noaspect.svg\" style=\"width:24px;height:24px\" width=\"24\"/><span class=\"ds-text-tight-s ds-font-bold ds-uppercase ds-text-left\">Gujarat Titans</span></div></a>,\n",
       " <a class=\"ds-inline-flex ds-items-start ds-leading-none\" href=\"/series/indian-premier-league-2023-1345038/gujarat-titans-vs-chennai-super-kings-1st-match-1359475/live-cricket-score\"><span class=\"ds-text-compact-xs ds-text-typo ds-underline ds-decoration-ui-stroke hover:ds-text-typo-primary hover:ds-decoration-ui-stroke-primary ds-block\">vs CSK</span></a>,\n",
       " <a class=\"ds-flex ds-items-center\" href=\"/team/kolkata-knight-riders-335971\"><div class=\"ds-flex ds-items-center ds-space-x-2\"><img alt=\"Kolkata Knight Riders\" height=\"24\" src=\"https://wassets.hscicdn.com/static/images/lazyimage-noaspect.svg\" style=\"width:24px;height:24px\" width=\"24\"/><span class=\"ds-text-tight-s ds-font-bold ds-uppercase ds-text-left\">Kolkata Knight Riders</span></div></a>,\n",
       " <a class=\"ds-inline-flex ds-items-start ds-leading-none\" href=\"/series/indian-premier-league-2023-1345038/punjab-kings-vs-kolkata-knight-riders-2nd-match-1359476/live-cricket-score\"><span class=\"ds-text-compact-xs ds-text-typo ds-underline ds-decoration-ui-stroke hover:ds-text-typo-primary hover:ds-decoration-ui-stroke-primary ds-block\">vs PBKS</span></a>,\n",
       " <a class=\"ds-flex ds-items-center\" href=\"/team/lucknow-super-giants-1298768\"><div class=\"ds-flex ds-items-center ds-space-x-2\"><img alt=\"Lucknow Super Giants\" height=\"24\" src=\"https://wassets.hscicdn.com/static/images/lazyimage-noaspect.svg\" style=\"width:24px;height:24px\" width=\"24\"/><span class=\"ds-text-tight-s ds-font-bold ds-uppercase ds-text-left\">Lucknow Super Giants</span></div></a>,\n",
       " <a class=\"ds-inline-flex ds-items-start ds-leading-none\" href=\"/series/indian-premier-league-2023-1345038/lucknow-super-giants-vs-delhi-capitals-3rd-match-1359477/live-cricket-score\"><span class=\"ds-text-compact-xs ds-text-typo ds-underline ds-decoration-ui-stroke hover:ds-text-typo-primary hover:ds-decoration-ui-stroke-primary ds-block\">vs DC</span></a>,\n",
       " <a class=\"ds-flex ds-items-center\" href=\"/team/mumbai-indians-335978\"><div class=\"ds-flex ds-items-center ds-space-x-2\"><img alt=\"Mumbai Indians\" height=\"24\" src=\"https://wassets.hscicdn.com/static/images/lazyimage-noaspect.svg\" style=\"width:24px;height:24px\" width=\"24\"/><span class=\"ds-text-tight-s ds-font-bold ds-uppercase ds-text-left\">Mumbai Indians</span></div></a>,\n",
       " <a class=\"ds-inline-flex ds-items-start ds-leading-none\" href=\"/series/indian-premier-league-2023-1345038/royal-challengers-bangalore-vs-mumbai-indians-5th-match-1359479/live-cricket-score\"><span class=\"ds-text-compact-xs ds-text-typo ds-underline ds-decoration-ui-stroke hover:ds-text-typo-primary hover:ds-decoration-ui-stroke-primary ds-block\">vs RCB</span></a>,\n",
       " <a class=\"ds-flex ds-items-center\" href=\"/team/punjab-kings-335973\"><div class=\"ds-flex ds-items-center ds-space-x-2\"><img alt=\"Punjab Kings\" height=\"24\" src=\"https://wassets.hscicdn.com/static/images/lazyimage-noaspect.svg\" style=\"width:24px;height:24px\" width=\"24\"/><span class=\"ds-text-tight-s ds-font-bold ds-uppercase ds-text-left\">Punjab Kings</span></div></a>,\n",
       " <a class=\"ds-inline-flex ds-items-start ds-leading-none\" href=\"/series/indian-premier-league-2023-1345038/punjab-kings-vs-kolkata-knight-riders-2nd-match-1359476/live-cricket-score\"><span class=\"ds-text-compact-xs ds-text-typo ds-underline ds-decoration-ui-stroke hover:ds-text-typo-primary hover:ds-decoration-ui-stroke-primary ds-block\">vs KKR</span></a>,\n",
       " <a class=\"ds-flex ds-items-center\" href=\"/team/rajasthan-royals-335977\"><div class=\"ds-flex ds-items-center ds-space-x-2\"><img alt=\"Rajasthan Royals\" height=\"24\" src=\"https://wassets.hscicdn.com/static/images/lazyimage-noaspect.svg\" style=\"width:24px;height:24px\" width=\"24\"/><span class=\"ds-text-tight-s ds-font-bold ds-uppercase ds-text-left\">Rajasthan Royals</span></div></a>,\n",
       " <a class=\"ds-inline-flex ds-items-start ds-leading-none\" href=\"/series/indian-premier-league-2023-1345038/sunrisers-hyderabad-vs-rajasthan-royals-4th-match-1359478/live-cricket-score\"><span class=\"ds-text-compact-xs ds-text-typo ds-underline ds-decoration-ui-stroke hover:ds-text-typo-primary hover:ds-decoration-ui-stroke-primary ds-block\">vs SRH</span></a>,\n",
       " <a class=\"ds-flex ds-items-center\" href=\"/team/royal-challengers-bangalore-335970\"><div class=\"ds-flex ds-items-center ds-space-x-2\"><img alt=\"Royal Challengers Bangalore\" height=\"24\" src=\"https://wassets.hscicdn.com/static/images/lazyimage-noaspect.svg\" style=\"width:24px;height:24px\" width=\"24\"/><span class=\"ds-text-tight-s ds-font-bold ds-uppercase ds-text-left\">Royal Challengers Bangalore</span></div></a>,\n",
       " <a class=\"ds-inline-flex ds-items-start ds-leading-none\" href=\"/series/indian-premier-league-2023-1345038/royal-challengers-bangalore-vs-mumbai-indians-5th-match-1359479/live-cricket-score\"><span class=\"ds-text-compact-xs ds-text-typo ds-underline ds-decoration-ui-stroke hover:ds-text-typo-primary hover:ds-decoration-ui-stroke-primary ds-block\">vs MI</span></a>,\n",
       " <a class=\"ds-flex ds-items-center\" href=\"/team/sunrisers-hyderabad-628333\"><div class=\"ds-flex ds-items-center ds-space-x-2\"><img alt=\"Sunrisers Hyderabad\" height=\"24\" src=\"https://wassets.hscicdn.com/static/images/lazyimage-noaspect.svg\" style=\"width:24px;height:24px\" width=\"24\"/><span class=\"ds-text-tight-s ds-font-bold ds-uppercase ds-text-left\">Sunrisers Hyderabad</span></div></a>,\n",
       " <a class=\"ds-inline-flex ds-items-start ds-leading-none\" href=\"/series/indian-premier-league-2023-1345038/sunrisers-hyderabad-vs-rajasthan-royals-4th-match-1359478/live-cricket-score\"><span class=\"ds-text-compact-xs ds-text-typo ds-underline ds-decoration-ui-stroke hover:ds-text-typo-primary hover:ds-decoration-ui-stroke-primary ds-block\">vs RR</span></a>]"
      ]
     },
     "execution_count": 8,
     "metadata": {},
     "output_type": "execute_result"
    }
   ],
   "source": [
    "links\n"
   ]
  },
  {
   "cell_type": "code",
   "execution_count": null,
   "id": "bebf5d71",
   "metadata": {},
   "outputs": [],
   "source": []
  },
  {
   "cell_type": "code",
   "execution_count": 9,
   "id": "db44f8df",
   "metadata": {
    "scrolled": false
   },
   "outputs": [
    {
     "data": {
      "text/plain": [
       "['/team/chennai-super-kings-335974',\n",
       " '/series/indian-premier-league-2023-1345038/gujarat-titans-vs-chennai-super-kings-1st-match-1359475/live-cricket-score',\n",
       " '/team/delhi-capitals-335975',\n",
       " '/series/indian-premier-league-2023-1345038/lucknow-super-giants-vs-delhi-capitals-3rd-match-1359477/live-cricket-score',\n",
       " '/team/gujarat-titans-1298769',\n",
       " '/series/indian-premier-league-2023-1345038/gujarat-titans-vs-chennai-super-kings-1st-match-1359475/live-cricket-score',\n",
       " '/team/kolkata-knight-riders-335971',\n",
       " '/series/indian-premier-league-2023-1345038/punjab-kings-vs-kolkata-knight-riders-2nd-match-1359476/live-cricket-score',\n",
       " '/team/lucknow-super-giants-1298768',\n",
       " '/series/indian-premier-league-2023-1345038/lucknow-super-giants-vs-delhi-capitals-3rd-match-1359477/live-cricket-score',\n",
       " '/team/mumbai-indians-335978',\n",
       " '/series/indian-premier-league-2023-1345038/royal-challengers-bangalore-vs-mumbai-indians-5th-match-1359479/live-cricket-score',\n",
       " '/team/punjab-kings-335973',\n",
       " '/series/indian-premier-league-2023-1345038/punjab-kings-vs-kolkata-knight-riders-2nd-match-1359476/live-cricket-score',\n",
       " '/team/rajasthan-royals-335977',\n",
       " '/series/indian-premier-league-2023-1345038/sunrisers-hyderabad-vs-rajasthan-royals-4th-match-1359478/live-cricket-score',\n",
       " '/team/royal-challengers-bangalore-335970',\n",
       " '/series/indian-premier-league-2023-1345038/royal-challengers-bangalore-vs-mumbai-indians-5th-match-1359479/live-cricket-score',\n",
       " '/team/sunrisers-hyderabad-628333',\n",
       " '/series/indian-premier-league-2023-1345038/sunrisers-hyderabad-vs-rajasthan-royals-4th-match-1359478/live-cricket-score']"
      ]
     },
     "execution_count": 9,
     "metadata": {},
     "output_type": "execute_result"
    }
   ],
   "source": [
    "[l.get(\"href\") for l in links]"
   ]
  },
  {
   "cell_type": "code",
   "execution_count": 10,
   "id": "924d193e",
   "metadata": {},
   "outputs": [
    {
     "name": "stdout",
     "output_type": "stream",
     "text": [
      "['Chennai Super Kings', 'Delhi Capitals', 'Gujarat Titans', 'Kolkata Knight Riders', 'Lucknow Super Giants', 'Mumbai Indians', 'Punjab Kings', 'Rajasthan Royals', 'Royal Challengers Bangalore', 'Sunrisers Hyderabad']\n"
     ]
    }
   ],
   "source": [
    "# team_names = []\n",
    "# match_info = []\n",
    "\n",
    "# for link in links:\n",
    "#     href = link.get(\"href\")\n",
    "#     if \"/team/\" in href:\n",
    "#         # Extract team name from link\n",
    "#         team_name = href.split(\"-\")[-2]\n",
    "#         team_names.append(team_name)\n",
    "#     elif \"/live-cricket-score\" in href:\n",
    "#         # Extract match information from link\n",
    "#         match = href.split(\"/\")[-3]\n",
    "#         match_info.append(match)\n",
    "\n",
    "# print(team_names)\n",
    "# print(match_info)\n",
    "\n",
    "\n",
    "\n",
    "team_names = []\n",
    "\n",
    "for link in links:\n",
    "    href = link.get(\"href\")\n",
    "    if \"/team/\" in href:\n",
    "        team_name = href.split(\"/\")[-1].split(\"-\")\n",
    "        team_name = \" \".join(team_name[:-1]).title()  # get all words except the last one (which is the ID) and convert to title case\n",
    "        team_names.append(team_name)\n",
    "\n",
    "print(team_names)\n"
   ]
  },
  {
   "cell_type": "code",
   "execution_count": 11,
   "id": "43d69d26",
   "metadata": {},
   "outputs": [
    {
     "name": "stdout",
     "output_type": "stream",
     "text": [
      "['Chennai Super Kings', 'Delhi Capitals', 'Gujarat Titans', 'Kolkata Knight Riders', 'Lucknow Super Giants', 'Mumbai Indians', 'Punjab Kings', 'Rajasthan Royals', 'Royal Challengers Bangalore', 'Sunrisers Hyderabad']\n"
     ]
    }
   ],
   "source": [
    "print(team_names)"
   ]
  },
  {
   "cell_type": "code",
   "execution_count": 12,
   "id": "10be80c2",
   "metadata": {},
   "outputs": [
    {
     "name": "stdout",
     "output_type": "stream",
     "text": [
      "                         teams\n",
      "0          Chennai Super Kings\n",
      "1               Delhi Capitals\n",
      "2               Gujarat Titans\n",
      "3        Kolkata Knight Riders\n",
      "4         Lucknow Super Giants\n",
      "5               Mumbai Indians\n",
      "6                 Punjab Kings\n",
      "7             Rajasthan Royals\n",
      "8  Royal Challengers Bangalore\n",
      "9          Sunrisers Hyderabad\n"
     ]
    }
   ],
   "source": [
    "import pandas as pd\n",
    "\n",
    "df = pd.DataFrame({'teams': team_names})\n",
    "print(df)\n"
   ]
  },
  {
   "cell_type": "code",
   "execution_count": 13,
   "id": "b93187e7",
   "metadata": {},
   "outputs": [],
   "source": [
    "df.to_csv('team.csv', index=False)"
   ]
  },
  {
   "cell_type": "code",
   "execution_count": null,
   "id": "117bcd30",
   "metadata": {},
   "outputs": [],
   "source": []
  }
 ],
 "metadata": {
  "kernelspec": {
   "display_name": "Python 3 (ipykernel)",
   "language": "python",
   "name": "python3"
  },
  "language_info": {
   "codemirror_mode": {
    "name": "ipython",
    "version": 3
   },
   "file_extension": ".py",
   "mimetype": "text/x-python",
   "name": "python",
   "nbconvert_exporter": "python",
   "pygments_lexer": "ipython3",
   "version": "3.9.13"
  }
 },
 "nbformat": 4,
 "nbformat_minor": 5
}
